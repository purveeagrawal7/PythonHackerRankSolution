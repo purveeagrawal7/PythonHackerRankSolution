{
 "cells": [
  {
   "cell_type": "code",
   "execution_count": 38,
   "metadata": {},
   "outputs": [],
   "source": [
    "import re\n",
    "def minion_game(string):\n",
    "#         vw = 'aeiou'.upper()\n",
    "#         strl = len(string)\n",
    "#         kevin = sum(strl-i for i in range(strl) if string[i] in vw)\n",
    "#         stuart = sum(strl-i for i in range(strl) if string[i] not in vw)\n",
    "\n",
    "#         if kevin == stuart:\n",
    "#             print 'Draw'\n",
    "#         elif kevin > stuart:\n",
    "#             print 'Kevin %d' % kevin\n",
    "#         else:\n",
    "#             print 'Stuart %d' % stuart\n",
    "    #counter = Counter(string)\n",
    "    vw = 'aeiou'.upper()\n",
    "    length = len(string)\n",
    "    alist = set()\n",
    "    blist = set()\n",
    "    countsA = []\n",
    "    countsB = []\n",
    "    kevin = 0\n",
    "    stuart = 0\n",
    "    for i in range(length):\n",
    "        if(string[i] in vw):\n",
    "            for j in range(i,length):\n",
    "                alist.add(string[i:j + 1]) \n",
    "        else:\n",
    "            for j in range(i,length):\n",
    "                blist.add(string[i:j + 1])\n",
    "    #print(alist)\n",
    "    print(blist)\n",
    "    for i in alist:\n",
    "        countsA.append(len(re.findall('(?='+i+')',string)))\n",
    "    kevin = (sum(countsA))\n",
    "    #print(string.find('ANA'))\n",
    "    for i in blist:\n",
    "        countsB.append(len(re.findall('(?='+i+')',string)))\n",
    "    stuart = (sum(countsB))\n",
    "    print(kevin)\n",
    "    if kevin == stuart:\n",
    "        print('Draw')\n",
    "    elif kevin > stuart:\n",
    "        print('Kevin %d' % kevin)\n",
    "    else:\n",
    "        print('Stuart %d' % stuart)"
   ]
  },
  {
   "cell_type": "code",
   "execution_count": null,
   "metadata": {},
   "outputs": [],
   "source": [
    "(minion_game('banana'));"
   ]
  }
 ],
 "metadata": {
  "kernelspec": {
   "display_name": "Python 3",
   "language": "python",
   "name": "python3"
  },
  "language_info": {
   "codemirror_mode": {
    "name": "ipython",
    "version": 3
   },
   "file_extension": ".py",
   "mimetype": "text/x-python",
   "name": "python",
   "nbconvert_exporter": "python",
   "pygments_lexer": "ipython3",
   "version": "3.6.4"
  }
 },
 "nbformat": 4,
 "nbformat_minor": 2
}
