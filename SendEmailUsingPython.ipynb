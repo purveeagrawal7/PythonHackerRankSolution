{
 "cells": [
  {
   "cell_type": "code",
   "execution_count": 19,
   "metadata": {},
   "outputs": [],
   "source": [
    "import smtplib"
   ]
  },
  {
   "cell_type": "code",
   "execution_count": 20,
   "metadata": {},
   "outputs": [],
   "source": [
    "sender = \"purvee.agrawal@gmail.com\"\n",
    "recipient = \"purveeagrawal7@gmail.com\"\n",
    "password = \"######\"\n",
    "subject = \"Test email from Purvee\"\n",
    "text = \"Hello from Purvee\""
   ]
  },
  {
   "cell_type": "code",
   "execution_count": null,
   "metadata": {},
   "outputs": [],
   "source": [
    "def sendMail():\n",
    "    #SMTP_SSL method sets up the server settings using SSL\n",
    "    # SMTP_SSL class is used to ensure that communication between our Python program and the SMTP server is encrypted\n",
    "    smtp_server = smtplib.SMTP_SSL(\"smtp.gmail.com\", 465)\n",
    "    #login() method verifies username and password\n",
    "    smtp_server.login(sender, password)\n",
    "    message = \"Subject: {}\\n\\n{}\".format(subject, text)\n",
    "    # sendmail() method tells the SMTP server to deliver the actual email payload\n",
    "    smtp_server.sendmail(sender, recipient, message)\n",
    "    smtp_server.close()\n",
    "    \n",
    "import time\n",
    "def timer(n):\n",
    "    while n!=0:\n",
    "        n=n-1\n",
    "        time.sleep(n)\n",
    "        sendMail()\n",
    "for i in range(10,100,10):\n",
    "    timer(i) "
   ]
  },
  {
   "cell_type": "code",
   "execution_count": null,
   "metadata": {},
   "outputs": [],
   "source": []
  },
  {
   "cell_type": "code",
   "execution_count": null,
   "metadata": {},
   "outputs": [],
   "source": []
  },
  {
   "cell_type": "code",
   "execution_count": null,
   "metadata": {},
   "outputs": [],
   "source": []
  }
 ],
 "metadata": {
  "kernelspec": {
   "display_name": "Python 3",
   "language": "python",
   "name": "python3"
  },
  "language_info": {
   "codemirror_mode": {
    "name": "ipython",
    "version": 3
   },
   "file_extension": ".py",
   "mimetype": "text/x-python",
   "name": "python",
   "nbconvert_exporter": "python",
   "pygments_lexer": "ipython3",
   "version": "3.6.4"
  }
 },
 "nbformat": 4,
 "nbformat_minor": 2
}
